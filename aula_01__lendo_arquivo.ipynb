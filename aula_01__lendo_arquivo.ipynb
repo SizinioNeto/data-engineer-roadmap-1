{
  "nbformat": 4,
  "nbformat_minor": 0,
  "metadata": {
    "colab": {
      "name": "aula_01 _lendo arquivo.ipynb",
      "provenance": [],
      "authorship_tag": "ABX9TyMOifMgsG44HD1exL0RkpZD",
      "include_colab_link": true
    },
    "kernelspec": {
      "name": "python3",
      "display_name": "Python 3"
    },
    "language_info": {
      "name": "python"
    }
  },
  "cells": [
    {
      "cell_type": "markdown",
      "metadata": {
        "id": "view-in-github",
        "colab_type": "text"
      },
      "source": [
        "<a href=\"https://colab.research.google.com/github/SizinioNeto/data-engineer-roadmap-1/blob/main/aula_01__lendo_arquivo.ipynb\" target=\"_parent\"><img src=\"https://colab.research.google.com/assets/colab-badge.svg\" alt=\"Open In Colab\"/></a>"
      ]
    },
    {
      "cell_type": "code",
      "execution_count": 1,
      "metadata": {
        "colab": {
          "base_uri": "https://localhost:8080/"
        },
        "id": "TEsDuy3c1VNw",
        "outputId": "a0c0a1ae-4ce5-4d69-fd92-5ff87320bb51"
      },
      "outputs": [
        {
          "output_type": "stream",
          "name": "stdout",
          "text": [
            "Mounted at /content/gdrive\n"
          ]
        }
      ],
      "source": [
        "from google.colab import drive\n",
        "drive.mount('/content/gdrive')"
      ]
    },
    {
      "cell_type": "code",
      "source": [
        "with open('/content/gdrive/MyDrive/12.✅ Checklist.txt', 'r') as checklist:\n",
        "  print (checklist.read ())\n"
      ],
      "metadata": {
        "colab": {
          "base_uri": "https://localhost:8080/"
        },
        "id": "6ZbOUqF02DyR",
        "outputId": "9c4b8192-2262-46e4-96d8-7e744e307889"
      },
      "execution_count": 7,
      "outputs": [
        {
          "output_type": "stream",
          "name": "stdout",
          "text": [
            "Prática + Portfólio + Personal Branding\n",
            "\n",
            "O checklist serve para você lembrar das atividades que irão contribuir para a construção da sua carreira como programador, desenvolver ou cientista de dados.\n",
            "\n",
            "\n",
            "\n",
            "Checklist do Módulo 2\n",
            "☐ Estudar mais exemplos da biblioteca pdfplumber.\n",
            "☐ Manipular arquivos de texto (txt) dentro do seu Google Drive.\n",
            "☐ Fazer 2 posts curtos sobre algum conteúdo novo aprendido ou compartilhar 2 artigos (sites, blogs, notícias) no LinkedIn.\n",
            "☐ Comentar pelo menos em 1 post ou compartilhamento de alguém da sua área (LinkedIn).\n"
          ]
        }
      ]
    }
  ]
}